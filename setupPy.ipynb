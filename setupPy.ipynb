{
 "cells": [
  {
   "cell_type": "code",
   "execution_count": 1,
   "metadata": {
    "colab": {},
    "colab_type": "code",
    "id": "LufvCQXnZPKp"
   },
   "outputs": [],
   "source": [
    "import pandas as pd\n",
    "import numpy as np\n",
    "import matplotlib.pyplot as plt\n",
    "import seaborn as sns\n",
    "\n",
    "%matplotlib inline"
   ]
  },
  {
   "cell_type": "code",
   "execution_count": 12,
   "metadata": {},
   "outputs": [],
   "source": [
    "diag = pd.read_csv('C:\\\\Users\\\\conta\\\\Documents\\\\Novartis\\\\APLD Raw Data\\\\DIAG.txt', \n",
    "                   dtype={\"PATIENT_ID\": int,\"CLAIM_ID\": object,\"CLAIM_TYP_CD\": object,\"SERVICE_DATE\": str,\"MONTH_ID\": int,\n",
    "                          \"DIAGNOSIS_CODE\": object,\"DIAG_VERS_TYP_ID\": int,\"DIAG_CD_POSN_NBR\": int,\"PROVIDER_ID\": object,\n",
    "                          \"RESTATE_FLAG\": object,\"FLEXIBLE_FLD_1_CHAR\": object,\"FLEXIBLE_FLD_2_CHAR\": object}, \n",
    "                   sep=\"|\")\n",
    "diag.head()"
   ]
  },
  {
   "cell_type": "code",
   "execution_count": 22,
   "metadata": {},
   "outputs": [
    {
     "name": "stdout",
     "output_type": "stream",
     "text": [
      "<class 'pandas.core.frame.DataFrame'>\n",
      "RangeIndex: 3192462 entries, 0 to 3192461\n",
      "Data columns (total 12 columns):\n",
      "PATIENT_ID             int32\n",
      "CLAIM_ID               object\n",
      "CLAIM_TYP_CD           object\n",
      "SERVICE_DATE           object\n",
      "MONTH_ID               int32\n",
      "DIAGNOSIS_CODE         object\n",
      "DIAG_VERS_TYP_ID       int32\n",
      "DIAG_CD_POSN_NBR       int32\n",
      "PROVIDER_ID            object\n",
      "RESTATE_FLAG           object\n",
      "FLEXIBLE_FLD_1_CHAR    object\n",
      "FLEXIBLE_FLD_2_CHAR    object\n",
      "dtypes: int32(4), object(8)\n",
      "memory usage: 243.6+ MB\n"
     ]
    }
   ],
   "source": [
    "diag.describe(include='all')"
   ]
  },
  {
   "cell_type": "code",
   "execution_count": null,
   "metadata": {},
   "outputs": [],
   "source": [
    "diag.info(verbose=True)"
   ]
  },
  {
   "cell_type": "code",
   "execution_count": 23,
   "metadata": {},
   "outputs": [
    {
     "data": {
      "text/html": [
       "<div>\n",
       "<style scoped>\n",
       "    .dataframe tbody tr th:only-of-type {\n",
       "        vertical-align: middle;\n",
       "    }\n",
       "\n",
       "    .dataframe tbody tr th {\n",
       "        vertical-align: top;\n",
       "    }\n",
       "\n",
       "    .dataframe thead th {\n",
       "        text-align: right;\n",
       "    }\n",
       "</style>\n",
       "<table border=\"1\" class=\"dataframe\">\n",
       "  <thead>\n",
       "    <tr style=\"text-align: right;\">\n",
       "      <th></th>\n",
       "      <th>PATIENT_ID</th>\n",
       "      <th>CLAIM_ID</th>\n",
       "      <th>CLAIM_TYP_CD</th>\n",
       "      <th>SERVICE_DATE</th>\n",
       "      <th>MONTH_ID</th>\n",
       "      <th>DIAGNOSIS_CODE</th>\n",
       "      <th>DIAG_VERS_TYP_ID</th>\n",
       "      <th>DIAG_CD_POSN_NBR</th>\n",
       "      <th>PROVIDER_ID</th>\n",
       "      <th>RESTATE_FLAG</th>\n",
       "      <th>FLEXIBLE_FLD_1_CHAR</th>\n",
       "      <th>FLEXIBLE_FLD_2_CHAR</th>\n",
       "    </tr>\n",
       "  </thead>\n",
       "  <tbody>\n",
       "    <tr>\n",
       "      <th>0</th>\n",
       "      <td>999973009</td>\n",
       "      <td>147472383254</td>\n",
       "      <td>P</td>\n",
       "      <td>05/27/2016</td>\n",
       "      <td>201605</td>\n",
       "      <td>C79.51</td>\n",
       "      <td>2</td>\n",
       "      <td>1</td>\n",
       "      <td>7614570</td>\n",
       "      <td>0</td>\n",
       "      <td>1629078753</td>\n",
       "      <td>NaN</td>\n",
       "    </tr>\n",
       "    <tr>\n",
       "      <th>1</th>\n",
       "      <td>999973009</td>\n",
       "      <td>147472383254</td>\n",
       "      <td>P</td>\n",
       "      <td>05/27/2016</td>\n",
       "      <td>201605</td>\n",
       "      <td>C50.912</td>\n",
       "      <td>2</td>\n",
       "      <td>2</td>\n",
       "      <td>7614570</td>\n",
       "      <td>0</td>\n",
       "      <td>1629078753</td>\n",
       "      <td>NaN</td>\n",
       "    </tr>\n",
       "    <tr>\n",
       "      <th>2</th>\n",
       "      <td>999973009</td>\n",
       "      <td>128313584745</td>\n",
       "      <td>P</td>\n",
       "      <td>02/01/2016</td>\n",
       "      <td>201602</td>\n",
       "      <td>C79.51</td>\n",
       "      <td>2</td>\n",
       "      <td>1</td>\n",
       "      <td>7537830</td>\n",
       "      <td>0</td>\n",
       "      <td>1487655122</td>\n",
       "      <td>NaN</td>\n",
       "    </tr>\n",
       "    <tr>\n",
       "      <th>3</th>\n",
       "      <td>999973009</td>\n",
       "      <td>128313584745</td>\n",
       "      <td>P</td>\n",
       "      <td>02/01/2016</td>\n",
       "      <td>201602</td>\n",
       "      <td>C50.512</td>\n",
       "      <td>2</td>\n",
       "      <td>2</td>\n",
       "      <td>7537830</td>\n",
       "      <td>0</td>\n",
       "      <td>1487655122</td>\n",
       "      <td>NaN</td>\n",
       "    </tr>\n",
       "    <tr>\n",
       "      <th>4</th>\n",
       "      <td>999973009</td>\n",
       "      <td>128214001111</td>\n",
       "      <td>P</td>\n",
       "      <td>02/01/2016</td>\n",
       "      <td>201602</td>\n",
       "      <td>C50.919</td>\n",
       "      <td>2</td>\n",
       "      <td>1</td>\n",
       "      <td>7189956</td>\n",
       "      <td>0</td>\n",
       "      <td>1861492902</td>\n",
       "      <td>NaN</td>\n",
       "    </tr>\n",
       "  </tbody>\n",
       "</table>\n",
       "</div>"
      ],
      "text/plain": [
       "   PATIENT_ID      CLAIM_ID CLAIM_TYP_CD SERVICE_DATE  MONTH_ID  \\\n",
       "0   999973009  147472383254            P   05/27/2016    201605   \n",
       "1   999973009  147472383254            P   05/27/2016    201605   \n",
       "2   999973009  128313584745            P   02/01/2016    201602   \n",
       "3   999973009  128313584745            P   02/01/2016    201602   \n",
       "4   999973009  128214001111            P   02/01/2016    201602   \n",
       "\n",
       "  DIAGNOSIS_CODE  DIAG_VERS_TYP_ID  DIAG_CD_POSN_NBR PROVIDER_ID RESTATE_FLAG  \\\n",
       "0         C79.51                 2                 1     7614570            0   \n",
       "1        C50.912                 2                 2     7614570            0   \n",
       "2         C79.51                 2                 1     7537830            0   \n",
       "3        C50.512                 2                 2     7537830            0   \n",
       "4        C50.919                 2                 1     7189956            0   \n",
       "\n",
       "  FLEXIBLE_FLD_1_CHAR FLEXIBLE_FLD_2_CHAR  \n",
       "0          1629078753                 NaN  \n",
       "1          1629078753                 NaN  \n",
       "2          1487655122                 NaN  \n",
       "3          1487655122                 NaN  \n",
       "4          1861492902                 NaN  "
      ]
     },
     "execution_count": 23,
     "metadata": {},
     "output_type": "execute_result"
    }
   ],
   "source": [
    "diag_2l = pd.read_csv('C:\\\\Users\\\\conta\\\\Documents\\\\Novartis\\\\APLD Raw Data\\\\DIAG_2l.txt', \n",
    "                   dtype={\"PATIENT_ID\": int,\"CLAIM_ID\": object,\"CLAIM_TYP_CD\": object,\"SERVICE_DATE\": str,\"MONTH_ID\": int,\n",
    "                          \"DIAGNOSIS_CODE\": object,\"DIAG_VERS_TYP_ID\": int,\"DIAG_CD_POSN_NBR\": int,\"PROVIDER_ID\": object,\n",
    "                          \"RESTATE_FLAG\": object,\"FLEXIBLE_FLD_1_CHAR\": object,\"FLEXIBLE_FLD_2_CHAR\": object}, \n",
    "                   sep=\"|\")\n",
    "diag_2l.head()"
   ]
  },
  {
   "cell_type": "code",
   "execution_count": null,
   "metadata": {},
   "outputs": [],
   "source": [
    "diag_2l.info(verbose=True)"
   ]
  }
 ],
 "metadata": {
  "colab": {
   "name": "Merck.ipynb",
   "provenance": []
  },
  "kernelspec": {
   "display_name": "Python 3",
   "language": "python",
   "name": "python3"
  },
  "language_info": {
   "codemirror_mode": {
    "name": "ipython",
    "version": 3
   },
   "file_extension": ".py",
   "mimetype": "text/x-python",
   "name": "python",
   "nbconvert_exporter": "python",
   "pygments_lexer": "ipython3",
   "version": "3.7.1"
  }
 },
 "nbformat": 4,
 "nbformat_minor": 1
}
